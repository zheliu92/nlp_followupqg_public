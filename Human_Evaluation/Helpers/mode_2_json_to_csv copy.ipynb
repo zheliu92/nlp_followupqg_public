{
 "cells": [
  {
   "cell_type": "code",
   "execution_count": 19,
   "metadata": {},
   "outputs": [],
   "source": [
    "import json\n",
    "import csv\n",
    "import pandas as pd\n",
    "\n",
    "full_path = '/Users/tkang/Documents/research/nlp_followupqg/Auto_Evaluation/full_clustered.json'\n",
    "gpt_path = '/Users/tkang/Documents/research/nlp_followupqg/Auto_Evaluation/gpt_clustered.json'\n",
    "org_path = '/Users/tkang/Documents/research/nlp_followupqg/Auto_Evaluation/org_clustered.json'"
   ]
  },
  {
   "cell_type": "code",
   "execution_count": 23,
   "metadata": {},
   "outputs": [
    {
     "name": "stdout",
     "output_type": "stream",
     "text": [
      "CSV file '../Data/Mode1/input/mode_2_data/org/mode_2_org_data_part_1.csv' created successfully.\n",
      "CSV file '../Data/Mode1/input/mode_2_data/org/mode_2_org_data_part_2.csv' created successfully.\n",
      "CSV file '../Data/Mode1/input/mode_2_data/org/mode_2_org_data_part_3.csv' created successfully.\n",
      "CSV file '../Data/Mode1/input/mode_2_data/org/mode_2_org_data_part_4.csv' created successfully.\n",
      "CSV file '../Data/Mode1/input/mode_2_data/org/mode_2_org_data_part_5.csv' created successfully.\n",
      "CSV file '../Data/Mode1/input/mode_2_data/org/mode_2_org_data_part_6.csv' created successfully.\n",
      "CSV file '../Data/Mode1/input/mode_2_data/org/mode_2_org_data_part_7.csv' created successfully.\n",
      "CSV file '../Data/Mode1/input/mode_2_data/org/mode_2_org_data_part_8.csv' created successfully.\n",
      "CSV file '../Data/Mode1/input/mode_2_data/org/mode_2_org_data_part_9.csv' created successfully.\n",
      "CSV file '../Data/Mode1/input/mode_2_data/org/mode_2_org_data_part_10.csv' created successfully.\n",
      "CSV file '../Data/Mode1/input/mode_2_data/org/mode_2_org_data_part_11.csv' created successfully.\n",
      "CSV file '../Data/Mode1/input/mode_2_data/org/mode_2_org_data_part_12.csv' created successfully.\n",
      "CSV file '../Data/Mode1/input/mode_2_data/org/mode_2_org_data_part_13.csv' created successfully.\n",
      "CSV file '../Data/Mode1/input/mode_2_data/org/mode_2_org_data_part_14.csv' created successfully.\n",
      "CSV file '../Data/Mode1/input/mode_2_data/org/mode_2_org_data_part_15.csv' created successfully.\n",
      "CSV file '../Data/Mode1/input/mode_2_data/org/mode_2_org_data_part_16.csv' created successfully.\n",
      "CSV file '../Data/Mode1/input/mode_2_data/org/mode_2_org_data_part_17.csv' created successfully.\n",
      "CSV file '../Data/Mode1/input/mode_2_data/org/mode_2_org_data_part_18.csv' created successfully.\n",
      "CSV file '../Data/Mode1/input/mode_2_data/org/mode_2_org_data_part_19.csv' created successfully.\n",
      "CSV file '../Data/Mode1/input/mode_2_data/org/mode_2_org_data_part_20.csv' created successfully.\n",
      "CSV file '../Data/Mode1/input/mode_2_data/org/mode_2_org_data_part_21.csv' created successfully.\n",
      "CSV file '../Data/Mode1/input/mode_2_data/org/mode_2_org_data_part_22.csv' created successfully.\n",
      "CSV file '../Data/Mode1/input/mode_2_data/org/mode_2_org_data_part_23.csv' created successfully.\n",
      "CSV file '../Data/Mode1/input/mode_2_data/org/mode_2_org_data_part_24.csv' created successfully.\n",
      "CSV file '../Data/Mode1/input/mode_2_data/org/mode_2_org_data_part_25.csv' created successfully.\n",
      "CSV file '../Data/Mode1/input/mode_2_data/org/mode_2_org_data_part_26.csv' created successfully.\n",
      "CSV file '../Data/Mode1/input/mode_2_data/org/mode_2_org_data_part_27.csv' created successfully.\n",
      "CSV file '../Data/Mode1/input/mode_2_data/org/mode_2_org_data_part_28.csv' created successfully.\n",
      "CSV file '../Data/Mode1/input/mode_2_data/org/mode_2_org_data_part_29.csv' created successfully.\n",
      "CSV file '../Data/Mode1/input/mode_2_data/org/mode_2_org_data_part_30.csv' created successfully.\n",
      "CSV file '../Data/Mode1/input/mode_2_data/org/mode_2_org_data_part_31.csv' created successfully.\n",
      "CSV file '../Data/Mode1/input/mode_2_data/org/mode_2_org_data_part_32.csv' created successfully.\n",
      "CSV file '../Data/Mode1/input/mode_2_data/org/mode_2_org_data_part_33.csv' created successfully.\n",
      "CSV file '../Data/Mode1/input/mode_2_data/org/mode_2_org_data_part_34.csv' created successfully.\n",
      "CSV file '../Data/Mode1/input/mode_2_data/org/mode_2_org_data_part_35.csv' created successfully.\n",
      "CSV file '../Data/Mode1/input/mode_2_data/org/mode_2_org_data_part_36.csv' created successfully.\n",
      "CSV file '../Data/Mode1/input/mode_2_data/org/mode_2_org_data_part_37.csv' created successfully.\n",
      "CSV file '../Data/Mode1/input/mode_2_data/org/mode_2_org_data_part_38.csv' created successfully.\n",
      "CSV file '../Data/Mode1/input/mode_2_data/org/mode_2_org_data_part_39.csv' created successfully.\n",
      "CSV file '../Data/Mode1/input/mode_2_data/org/mode_2_org_data_part_40.csv' created successfully.\n",
      "CSV file '../Data/Mode1/input/mode_2_data/org/mode_2_org_data_part_41.csv' created successfully.\n",
      "CSV file '../Data/Mode1/input/mode_2_data/org/mode_2_org_data_part_42.csv' created successfully.\n",
      "CSV file '../Data/Mode1/input/mode_2_data/org/mode_2_org_data_part_43.csv' created successfully.\n",
      "CSV file '../Data/Mode1/input/mode_2_data/org/mode_2_org_data_part_44.csv' created successfully.\n",
      "CSV file '../Data/Mode1/input/mode_2_data/org/mode_2_org_data_part_45.csv' created successfully.\n",
      "CSV file '../Data/Mode1/input/mode_2_data/org/mode_2_org_data_part_46.csv' created successfully.\n",
      "CSV file '../Data/Mode1/input/mode_2_data/org/mode_2_org_data_part_47.csv' created successfully.\n",
      "CSV file '../Data/Mode1/input/mode_2_data/org/mode_2_org_data_part_48.csv' created successfully.\n",
      "CSV file '../Data/Mode1/input/mode_2_data/org/mode_2_org_data_part_49.csv' created successfully.\n",
      "CSV file '../Data/Mode1/input/mode_2_data/org/mode_2_org_data_part_50.csv' created successfully.\n",
      "CSV file '../Data/Mode1/input/mode_2_data/org/mode_2_org_data_part_51.csv' created successfully.\n"
     ]
    }
   ],
   "source": [
    "import pandas as pd\n",
    "\n",
    "input_json_file_path = org_path\n",
    "output_csv_file_prefix = '../Data/Mode1/input/mode_2_data/org/mode_2_org_data_part_'\n",
    "\n",
    "# Load the JSON data\n",
    "data = pd.read_json(input_json_file_path)\n",
    "\n",
    "entries_per_file = 10\n",
    "\n",
    "# Loop to create multiple CSV files\n",
    "for i in range((len(data) + entries_per_file - 1) // entries_per_file):\n",
    "    # Calculate the start and end index for each chunk\n",
    "    start_index = i * entries_per_file\n",
    "    end_index = start_index + entries_per_file\n",
    "\n",
    "    # Extract the subset of data for this chunk\n",
    "    data_chunk = data.iloc[start_index:end_index]\n",
    "\n",
    "    # Explode 'generated_follow_up' column into individual rows\n",
    "    exploded_data = data_chunk.explode('generated_follow_up')\n",
    "\n",
    "    # Deduplicate rows in 'generated_follow_up'\n",
    "    exploded_data = exploded_data.drop_duplicates(subset=['id', 'generated_follow_up'])\n",
    "\n",
    "    # Define the output CSV file name for this chunk\n",
    "    output_csv_file_path = f'{output_csv_file_prefix}{i + 1}.csv'\n",
    "\n",
    "    # Write the processed data to the CSV file\n",
    "    exploded_data.to_csv(output_csv_file_path, index=False, encoding='utf-8')\n",
    "\n",
    "    print(f\"CSV file '{output_csv_file_path}' created successfully.\")\n"
   ]
  },
  {
   "cell_type": "code",
   "execution_count": 7,
   "metadata": {},
   "outputs": [
    {
     "data": {
      "text/html": [
       "<div>\n",
       "<style scoped>\n",
       "    .dataframe tbody tr th:only-of-type {\n",
       "        vertical-align: middle;\n",
       "    }\n",
       "\n",
       "    .dataframe tbody tr th {\n",
       "        vertical-align: top;\n",
       "    }\n",
       "\n",
       "    .dataframe thead th {\n",
       "        text-align: right;\n",
       "    }\n",
       "</style>\n",
       "<table border=\"1\" class=\"dataframe\">\n",
       "  <thead>\n",
       "    <tr style=\"text-align: right;\">\n",
       "      <th></th>\n",
       "      <th>id</th>\n",
       "      <th>question</th>\n",
       "      <th>answer</th>\n",
       "      <th>follow-up</th>\n",
       "    </tr>\n",
       "  </thead>\n",
       "  <tbody>\n",
       "    <tr>\n",
       "      <th>0</th>\n",
       "      <td>13094</td>\n",
       "      <td>ELI5: How does an internal clock within a DSLR...</td>\n",
       "      <td>For some weird reason, if you apply electricit...</td>\n",
       "      <td>What role does the microprocessor play in the ...</td>\n",
       "    </tr>\n",
       "  </tbody>\n",
       "</table>\n",
       "</div>"
      ],
      "text/plain": [
       "      id                                           question  \\\n",
       "0  13094  ELI5: How does an internal clock within a DSLR...   \n",
       "\n",
       "                                              answer  \\\n",
       "0  For some weird reason, if you apply electricit...   \n",
       "\n",
       "                                           follow-up  \n",
       "0  What role does the microprocessor play in the ...  "
      ]
     },
     "execution_count": 7,
     "metadata": {},
     "output_type": "execute_result"
    }
   ],
   "source": [
    "data.iloc[[0]]\n"
   ]
  },
  {
   "cell_type": "code",
   "execution_count": 18,
   "metadata": {},
   "outputs": [
    {
     "data": {
      "text/plain": [
       "Index(['id', 'question', 'answer', 'follow-up', 'relation',\n",
       "       'generated_follow_up'],\n",
       "      dtype='object')"
      ]
     },
     "execution_count": 18,
     "metadata": {},
     "output_type": "execute_result"
    }
   ],
   "source": [
    "full_path = '/Users/tkang/Documents/research/nlp_followupqg/Auto_Evaluation/full_clustered.json'\n",
    "gpt_path = '/Users/tkang/Documents/research/nlp_followupqg/Auto_Evaluation/gpt_clustered.json'\n",
    "org_path = '/Users/tkang/Documents/research/nlp_followupqg/Auto_Evaluation/org_clustered.json'\n",
    "\n",
    "data = pd.read_json(full_path)\n",
    "\n",
    "data.columns"
   ]
  },
  {
   "cell_type": "code",
   "execution_count": null,
   "metadata": {},
   "outputs": [],
   "source": []
  }
 ],
 "metadata": {
  "kernelspec": {
   "display_name": "Python 3",
   "language": "python",
   "name": "python3"
  },
  "language_info": {
   "codemirror_mode": {
    "name": "ipython",
    "version": 3
   },
   "file_extension": ".py",
   "mimetype": "text/x-python",
   "name": "python",
   "nbconvert_exporter": "python",
   "pygments_lexer": "ipython3",
   "version": "3.12.5"
  }
 },
 "nbformat": 4,
 "nbformat_minor": 2
}
