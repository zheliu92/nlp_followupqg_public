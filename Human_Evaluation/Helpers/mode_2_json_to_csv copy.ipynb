{
 "cells": [
  {
   "cell_type": "code",
   "execution_count": 19,
   "metadata": {},
   "outputs": [],
   "source": [
    "import json\n",
    "import csv\n",
    "import pandas as pd\n",
    "\n",
    "full_path = '/Users/tkang/Documents/research/nlp_followupqg/Auto_Evaluation/full_clustered.json'\n",
    "gpt_path = '/Users/tkang/Documents/research/nlp_followupqg/Auto_Evaluation/gpt_clustered.json'\n",
    "org_path = '/Users/tkang/Documents/research/nlp_followupqg/Auto_Evaluation/org_clustered.json'"
   ]
  },
  {
   "cell_type": "code",
   "execution_count": 48,
   "metadata": {},
   "outputs": [
    {
     "name": "stdout",
     "output_type": "stream",
     "text": [
      "CSV file '../Data/Mode2/input/mode_2_data/org/mode_2_org_data_part_1.csv' created successfully.\n",
      "CSV file '../Data/Mode2/input/mode_2_data/org/mode_2_org_data_part_2.csv' created successfully.\n",
      "CSV file '../Data/Mode2/input/mode_2_data/org/mode_2_org_data_part_3.csv' created successfully.\n",
      "CSV file '../Data/Mode2/input/mode_2_data/org/mode_2_org_data_part_4.csv' created successfully.\n",
      "CSV file '../Data/Mode2/input/mode_2_data/org/mode_2_org_data_part_5.csv' created successfully.\n",
      "CSV file '../Data/Mode2/input/mode_2_data/org/mode_2_org_data_part_6.csv' created successfully.\n",
      "CSV file '../Data/Mode2/input/mode_2_data/org/mode_2_org_data_part_7.csv' created successfully.\n",
      "CSV file '../Data/Mode2/input/mode_2_data/org/mode_2_org_data_part_8.csv' created successfully.\n",
      "CSV file '../Data/Mode2/input/mode_2_data/org/mode_2_org_data_part_9.csv' created successfully.\n",
      "CSV file '../Data/Mode2/input/mode_2_data/org/mode_2_org_data_part_10.csv' created successfully.\n",
      "CSV file '../Data/Mode2/input/mode_2_data/org/mode_2_org_data_part_11.csv' created successfully.\n",
      "CSV file '../Data/Mode2/input/mode_2_data/org/mode_2_org_data_part_12.csv' created successfully.\n",
      "CSV file '../Data/Mode2/input/mode_2_data/org/mode_2_org_data_part_13.csv' created successfully.\n",
      "CSV file '../Data/Mode2/input/mode_2_data/org/mode_2_org_data_part_14.csv' created successfully.\n",
      "CSV file '../Data/Mode2/input/mode_2_data/org/mode_2_org_data_part_15.csv' created successfully.\n",
      "CSV file '../Data/Mode2/input/mode_2_data/org/mode_2_org_data_part_16.csv' created successfully.\n",
      "CSV file '../Data/Mode2/input/mode_2_data/org/mode_2_org_data_part_17.csv' created successfully.\n",
      "CSV file '../Data/Mode2/input/mode_2_data/org/mode_2_org_data_part_18.csv' created successfully.\n",
      "CSV file '../Data/Mode2/input/mode_2_data/org/mode_2_org_data_part_19.csv' created successfully.\n",
      "CSV file '../Data/Mode2/input/mode_2_data/org/mode_2_org_data_part_20.csv' created successfully.\n",
      "CSV file '../Data/Mode2/input/mode_2_data/org/mode_2_org_data_part_21.csv' created successfully.\n",
      "CSV file '../Data/Mode2/input/mode_2_data/org/mode_2_org_data_part_22.csv' created successfully.\n",
      "CSV file '../Data/Mode2/input/mode_2_data/org/mode_2_org_data_part_23.csv' created successfully.\n",
      "CSV file '../Data/Mode2/input/mode_2_data/org/mode_2_org_data_part_24.csv' created successfully.\n",
      "CSV file '../Data/Mode2/input/mode_2_data/org/mode_2_org_data_part_25.csv' created successfully.\n",
      "CSV file '../Data/Mode2/input/mode_2_data/org/mode_2_org_data_part_26.csv' created successfully.\n",
      "CSV file '../Data/Mode2/input/mode_2_data/org/mode_2_org_data_part_27.csv' created successfully.\n",
      "CSV file '../Data/Mode2/input/mode_2_data/org/mode_2_org_data_part_28.csv' created successfully.\n",
      "CSV file '../Data/Mode2/input/mode_2_data/org/mode_2_org_data_part_29.csv' created successfully.\n",
      "CSV file '../Data/Mode2/input/mode_2_data/org/mode_2_org_data_part_30.csv' created successfully.\n",
      "CSV file '../Data/Mode2/input/mode_2_data/org/mode_2_org_data_part_31.csv' created successfully.\n",
      "CSV file '../Data/Mode2/input/mode_2_data/org/mode_2_org_data_part_32.csv' created successfully.\n",
      "CSV file '../Data/Mode2/input/mode_2_data/org/mode_2_org_data_part_33.csv' created successfully.\n",
      "CSV file '../Data/Mode2/input/mode_2_data/org/mode_2_org_data_part_34.csv' created successfully.\n",
      "CSV file '../Data/Mode2/input/mode_2_data/org/mode_2_org_data_part_35.csv' created successfully.\n",
      "CSV file '../Data/Mode2/input/mode_2_data/org/mode_2_org_data_part_36.csv' created successfully.\n",
      "CSV file '../Data/Mode2/input/mode_2_data/org/mode_2_org_data_part_37.csv' created successfully.\n",
      "CSV file '../Data/Mode2/input/mode_2_data/org/mode_2_org_data_part_38.csv' created successfully.\n",
      "CSV file '../Data/Mode2/input/mode_2_data/org/mode_2_org_data_part_39.csv' created successfully.\n",
      "CSV file '../Data/Mode2/input/mode_2_data/org/mode_2_org_data_part_40.csv' created successfully.\n",
      "CSV file '../Data/Mode2/input/mode_2_data/org/mode_2_org_data_part_41.csv' created successfully.\n",
      "CSV file '../Data/Mode2/input/mode_2_data/org/mode_2_org_data_part_42.csv' created successfully.\n",
      "CSV file '../Data/Mode2/input/mode_2_data/org/mode_2_org_data_part_43.csv' created successfully.\n",
      "CSV file '../Data/Mode2/input/mode_2_data/org/mode_2_org_data_part_44.csv' created successfully.\n",
      "CSV file '../Data/Mode2/input/mode_2_data/org/mode_2_org_data_part_45.csv' created successfully.\n",
      "CSV file '../Data/Mode2/input/mode_2_data/org/mode_2_org_data_part_46.csv' created successfully.\n",
      "CSV file '../Data/Mode2/input/mode_2_data/org/mode_2_org_data_part_47.csv' created successfully.\n",
      "CSV file '../Data/Mode2/input/mode_2_data/org/mode_2_org_data_part_48.csv' created successfully.\n",
      "CSV file '../Data/Mode2/input/mode_2_data/org/mode_2_org_data_part_49.csv' created successfully.\n",
      "CSV file '../Data/Mode2/input/mode_2_data/org/mode_2_org_data_part_50.csv' created successfully.\n",
      "CSV file '../Data/Mode2/input/mode_2_data/org/mode_2_org_data_part_51.csv' created successfully.\n"
     ]
    },
    {
     "name": "stderr",
     "output_type": "stream",
     "text": [
      "/var/folders/8b/lb1cxfqj6zx5dtq789h2k8xr0000gn/T/ipykernel_77017/2152132169.py:42: SettingWithCopyWarning: \n",
      "A value is trying to be set on a copy of a slice from a DataFrame.\n",
      "Try using .loc[row_indexer,col_indexer] = value instead\n",
      "\n",
      "See the caveats in the documentation: https://pandas.pydata.org/pandas-docs/stable/user_guide/indexing.html#returning-a-view-versus-a-copy\n",
      "  data_chunk['id'] = data_chunk['id'].apply(add_suffix_to_id)\n"
     ]
    }
   ],
   "source": [
    "import pandas as pd\n",
    "import csv\n",
    "\n",
    "input_json_file_path = org_path\n",
    "output_csv_file_prefix = '../Data/Mode2/input/mode_2_data/org/mode_2_org_data_part_'\n",
    "\n",
    "# Load data\n",
    "data = pd.read_json(input_json_file_path)\n",
    "\n",
    "# Explode the `generated_follow_up` column\n",
    "data = data.explode('generated_follow_up', ignore_index=True)\n",
    "\n",
    "# Number of unique IDs per file\n",
    "ids_per_file = 10\n",
    "\n",
    "# Get unique IDs\n",
    "unique_ids = data['id'].unique()\n",
    "\n",
    "# Loop to create files based on unique IDs\n",
    "for i in range(0, len(unique_ids), ids_per_file):\n",
    "    # Get the subset of unique IDs for this file\n",
    "    ids_chunk = unique_ids[i:i + ids_per_file]\n",
    "    \n",
    "    # Filter the dataset for rows with these IDs\n",
    "    data_chunk = data[data['id'].isin(ids_chunk)]\n",
    "    \n",
    "    # Create a mapping for suffixes: For each `id`, generate the suffix like _1, _2, _3, etc.\n",
    "    id_suffix_mapping = {}\n",
    "    \n",
    "    # Add a suffix to each id within the chunk to ensure uniqueness\n",
    "    def add_suffix_to_id(row_id):\n",
    "        # If it's the first time we see this id, start the counter at 1\n",
    "        if row_id not in id_suffix_mapping:\n",
    "            id_suffix_mapping[row_id] = 1\n",
    "        else:\n",
    "            id_suffix_mapping[row_id] += 1\n",
    "        \n",
    "        # Return the id with its suffix\n",
    "        return f\"{row_id}_{id_suffix_mapping[row_id]}\"\n",
    "    \n",
    "    # Apply the function to add suffix to the 'id' column\n",
    "    data_chunk['id'] = data_chunk['id'].apply(add_suffix_to_id)\n",
    "    \n",
    "    # Prepare the data in list format for a single-row CSV\n",
    "    row_data = {\n",
    "        'id': data_chunk['id'].tolist(),\n",
    "        'question': data_chunk['question'].tolist(),\n",
    "        'answer': data_chunk['answer'].tolist(),\n",
    "        'follow-ups': data_chunk['follow-up'].tolist(),\n",
    "        'relation': data_chunk['relation'].tolist(),\n",
    "        'generated_follow_up': data_chunk['generated_follow_up'].tolist()\n",
    "    }\n",
    "    \n",
    "    # Define the output CSV file name\n",
    "    file_number = i // ids_per_file + 1\n",
    "    output_csv_file_path = f'{output_csv_file_prefix}{file_number}.csv'\n",
    "    \n",
    "    # Write the data to the CSV file\n",
    "    with open(output_csv_file_path, mode='w', newline='', encoding='utf-8') as csv_file:\n",
    "        writer = csv.DictWriter(csv_file, fieldnames=row_data.keys())\n",
    "        \n",
    "        # Write the header\n",
    "        writer.writeheader()\n",
    "        \n",
    "        # Write a single row with all the data\n",
    "        writer.writerow(row_data)\n",
    "    \n",
    "    print(f\"CSV file '{output_csv_file_path}' created successfully.\")\n"
   ]
  },
  {
   "cell_type": "code",
   "execution_count": 7,
   "metadata": {},
   "outputs": [
    {
     "data": {
      "text/html": [
       "<div>\n",
       "<style scoped>\n",
       "    .dataframe tbody tr th:only-of-type {\n",
       "        vertical-align: middle;\n",
       "    }\n",
       "\n",
       "    .dataframe tbody tr th {\n",
       "        vertical-align: top;\n",
       "    }\n",
       "\n",
       "    .dataframe thead th {\n",
       "        text-align: right;\n",
       "    }\n",
       "</style>\n",
       "<table border=\"1\" class=\"dataframe\">\n",
       "  <thead>\n",
       "    <tr style=\"text-align: right;\">\n",
       "      <th></th>\n",
       "      <th>id</th>\n",
       "      <th>question</th>\n",
       "      <th>answer</th>\n",
       "      <th>follow-up</th>\n",
       "    </tr>\n",
       "  </thead>\n",
       "  <tbody>\n",
       "    <tr>\n",
       "      <th>0</th>\n",
       "      <td>13094</td>\n",
       "      <td>ELI5: How does an internal clock within a DSLR...</td>\n",
       "      <td>For some weird reason, if you apply electricit...</td>\n",
       "      <td>What role does the microprocessor play in the ...</td>\n",
       "    </tr>\n",
       "  </tbody>\n",
       "</table>\n",
       "</div>"
      ],
      "text/plain": [
       "      id                                           question  \\\n",
       "0  13094  ELI5: How does an internal clock within a DSLR...   \n",
       "\n",
       "                                              answer  \\\n",
       "0  For some weird reason, if you apply electricit...   \n",
       "\n",
       "                                           follow-up  \n",
       "0  What role does the microprocessor play in the ...  "
      ]
     },
     "execution_count": 7,
     "metadata": {},
     "output_type": "execute_result"
    }
   ],
   "source": [
    "data.iloc[[0]]\n"
   ]
  },
  {
   "cell_type": "code",
   "execution_count": 18,
   "metadata": {},
   "outputs": [
    {
     "data": {
      "text/plain": [
       "Index(['id', 'question', 'answer', 'follow-up', 'relation',\n",
       "       'generated_follow_up'],\n",
       "      dtype='object')"
      ]
     },
     "execution_count": 18,
     "metadata": {},
     "output_type": "execute_result"
    }
   ],
   "source": [
    "full_path = '/Users/tkang/Documents/research/nlp_followupqg/Auto_Evaluation/full_clustered.json'\n",
    "gpt_path = '/Users/tkang/Documents/research/nlp_followupqg/Auto_Evaluation/gpt_clustered.json'\n",
    "org_path = '/Users/tkang/Documents/research/nlp_followupqg/Auto_Evaluation/org_clustered.json'\n",
    "\n",
    "data = pd.read_json(full_path)\n",
    "\n",
    "data.columns"
   ]
  },
  {
   "cell_type": "code",
   "execution_count": null,
   "metadata": {},
   "outputs": [],
   "source": []
  }
 ],
 "metadata": {
  "kernelspec": {
   "display_name": "Python 3",
   "language": "python",
   "name": "python3"
  },
  "language_info": {
   "codemirror_mode": {
    "name": "ipython",
    "version": 3
   },
   "file_extension": ".py",
   "mimetype": "text/x-python",
   "name": "python",
   "nbconvert_exporter": "python",
   "pygments_lexer": "ipython3",
   "version": "3.12.5"
  }
 },
 "nbformat": 4,
 "nbformat_minor": 2
}
