{
 "cells": [
  {
   "cell_type": "code",
   "execution_count": 17,
   "metadata": {},
   "outputs": [],
   "source": [
    "import json\n",
    "import pandas as pd"
   ]
  },
  {
   "cell_type": "code",
   "execution_count": 18,
   "metadata": {},
   "outputs": [],
   "source": [
    "# Load data from Excel\n",
    "filepath = \"../Data/Mode1/Output/mode_1_release_1_all_output.xlsx\"\n",
    "raw_data = pd.read_excel(filepath)"
   ]
  },
  {
   "cell_type": "code",
   "execution_count": 19,
   "metadata": {},
   "outputs": [],
   "source": [
    "def process_raw_data(raw_data):\n",
    "    processed_rows = []\n",
    "    \n",
    "    for _, row in raw_data.iterrows():\n",
    "        group = row[\"group\"]\n",
    "        task_data = json.loads(row[\"data\"])[\"Data\"][\"taskData\"][0]  # Parse the JSON data\n",
    "        \n",
    "        grouped_data = {}\n",
    "        for key, value in task_data.items():\n",
    "            prefix, topic = key.split('_', 1)\n",
    "            if prefix not in grouped_data:\n",
    "                grouped_data[prefix] = {}\n",
    "            grouped_data[prefix][topic] = value\n",
    "\n",
    "        # Convert grouped data into records for DataFrame\n",
    "        for prefix, topics in grouped_data.items():\n",
    "            record = {\"group\": group, \"prefix\": prefix, **topics}\n",
    "            processed_rows.append(record)\n",
    "    \n",
    "    return pd.DataFrame(processed_rows)\n",
    "\n",
    "def extract_true_values(df):\n",
    "    def find_true_value(mapping):\n",
    "        # Identify the key with a True value\n",
    "        for key, value in mapping.items():\n",
    "            if value:\n",
    "                return key\n",
    "        return None\n",
    "\n",
    "    # Apply to all topic columns\n",
    "    topic_columns = df.columns.difference([\"group\", \"prefix\"])\n",
    "    for column in topic_columns:\n",
    "        df[column] = df[column].apply(find_true_value)\n",
    "\n",
    "    return df\n",
    "\n",
    "def count_unique_values(df):\n",
    "    unique_counts = {}\n",
    "    for column in df.columns.difference([\"group\", \"prefix\"]):\n",
    "        unique_counts[column] = df[column].value_counts().to_dict()\n",
    "    return unique_counts"
   ]
  },
  {
   "cell_type": "code",
   "execution_count": null,
   "metadata": {},
   "outputs": [
    {
     "name": "stdout",
     "output_type": "stream",
     "text": [
      "      group prefix validness       relatedness appropriateness\n",
      "0   group_1   3243       Yes  Slightly Related              No\n",
      "1   group_1   5230       Yes           Related              No\n",
      "2   group_1   8141       Yes           Related              No\n",
      "3   group_1  10373       Yes  Slightly Related              No\n",
      "4   group_1  10555       Yes           Related              No\n",
      "..      ...    ...       ...               ...             ...\n",
      "95  group_5  19758       Yes  Strongly Related              No\n",
      "96  group_5  23129       Yes  Strongly Related              No\n",
      "97  group_5  24508       Yes  Strongly Related             Yes\n",
      "98  group_5  24618       Yes  Strongly Related              No\n",
      "99  group_5  25372       Yes  Strongly Related              No\n",
      "\n",
      "[100 rows x 5 columns]\n",
      "\n",
      "Unique counts: {'appropriateness': {'No': 84, 'Yes': 16}, 'relatedness': {'Related': 35, 'Strongly Related': 34, 'Slightly Related': 22, 'Not Related': 9}, 'validness': {'Yes': 100}}\n"
     ]
    }
   ],
   "source": [
    "# Process and transform data\n",
    "processed_data = process_raw_data(raw_data)\n",
    "\n",
    "# Extract only the \"True\" values\n",
    "data_with_true_values = extract_true_values(processed_data)\n",
    "\n",
    "# Count unique values\n",
    "unique_counts = count_unique_values(data_with_true_values)\n",
    "\n",
    "# Display the results\n",
    "print(data_with_true_values)\n",
    "print(\"\\nUnique counts:\", unique_counts)\n"
   ]
  },
  {
   "cell_type": "code",
   "execution_count": null,
   "metadata": {},
   "outputs": [],
   "source": []
  }
 ],
 "metadata": {
  "kernelspec": {
   "display_name": "Python 3",
   "language": "python",
   "name": "python3"
  },
  "language_info": {
   "codemirror_mode": {
    "name": "ipython",
    "version": 3
   },
   "file_extension": ".py",
   "mimetype": "text/x-python",
   "name": "python",
   "nbconvert_exporter": "python",
   "pygments_lexer": "ipython3",
   "version": "3.12.5"
  }
 },
 "nbformat": 4,
 "nbformat_minor": 2
}
