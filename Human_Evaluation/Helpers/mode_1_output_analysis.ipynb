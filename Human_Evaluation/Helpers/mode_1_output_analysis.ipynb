{
 "cells": [
  {
   "cell_type": "code",
   "execution_count": 68,
   "metadata": {},
   "outputs": [],
   "source": [
    "import json\n",
    "import pandas as pd\n",
    "import numpy as np\n",
    "import matplotlib.pyplot as plt"
   ]
  },
  {
   "cell_type": "code",
   "execution_count": 3,
   "metadata": {},
   "outputs": [],
   "source": [
    "# Load data from Excel\n",
    "filepath = \"../Data/Mode1/Output/mode_1_release_1_all_output.xlsx\"\n",
    "raw_data = pd.read_excel(filepath)"
   ]
  },
  {
   "cell_type": "code",
   "execution_count": 4,
   "metadata": {},
   "outputs": [],
   "source": [
    "def process_raw_data(raw_data):\n",
    "    processed_rows = []\n",
    "    \n",
    "    for _, row in raw_data.iterrows():\n",
    "        group = row[\"group\"]\n",
    "        task_data = json.loads(row[\"data\"])[\"Data\"][\"taskData\"][0]  # Parse the JSON data\n",
    "        \n",
    "        grouped_data = {}\n",
    "        for key, value in task_data.items():\n",
    "            prefix, topic = key.split('_', 1)\n",
    "            if prefix not in grouped_data:\n",
    "                grouped_data[prefix] = {}\n",
    "            grouped_data[prefix][topic] = value\n",
    "\n",
    "        # Convert grouped data into records for DataFrame\n",
    "        for prefix, topics in grouped_data.items():\n",
    "            record = {\"group\": group, \"prefix\": prefix, **topics}\n",
    "            processed_rows.append(record)\n",
    "    \n",
    "    return pd.DataFrame(processed_rows)\n",
    "\n",
    "def extract_true_values(df):\n",
    "    def find_true_value(mapping):\n",
    "        # Identify the key with a True value\n",
    "        for key, value in mapping.items():\n",
    "            if value:\n",
    "                return key\n",
    "        return None\n",
    "\n",
    "    # Apply to all topic columns\n",
    "    topic_columns = df.columns.difference([\"group\", \"prefix\"])\n",
    "    for column in topic_columns:\n",
    "        df[column] = df[column].apply(find_true_value)\n",
    "\n",
    "    return df\n",
    "\n",
    "def count_unique_values(df):\n",
    "    unique_counts = {}\n",
    "    for column in df.columns.difference([\"group\", \"prefix\"]):\n",
    "        unique_counts[column] = df[column].value_counts().to_dict()\n",
    "    return unique_counts"
   ]
  },
  {
   "cell_type": "code",
   "execution_count": 13,
   "metadata": {},
   "outputs": [
    {
     "name": "stdout",
     "output_type": "stream",
     "text": [
      "      group prefix validness       relatedness appropriateness\n",
      "0   group_1   3243       Yes  Slightly Related              No\n",
      "1   group_1   5230       Yes           Related              No\n",
      "2   group_1   8141       Yes           Related              No\n",
      "3   group_1  10373       Yes  Slightly Related              No\n",
      "4   group_1  10555       Yes           Related              No\n",
      "..      ...    ...       ...               ...             ...\n",
      "95  group_5  19758       Yes  Strongly Related              No\n",
      "96  group_5  23129       Yes  Strongly Related              No\n",
      "97  group_5  24508       Yes  Strongly Related             Yes\n",
      "98  group_5  24618       Yes  Strongly Related              No\n",
      "99  group_5  25372       Yes  Strongly Related              No\n",
      "\n",
      "[100 rows x 5 columns]\n",
      "\n",
      "Unique counts: {'appropriateness': {'No': 84, 'Yes': 16}, 'relatedness': {'Related': 35, 'Strongly Related': 34, 'Slightly Related': 22, 'Not Related': 9}, 'validness': {'Yes': 100}}\n"
     ]
    }
   ],
   "source": [
    "# Process and transform data\n",
    "processed_data = process_raw_data(raw_data)\n",
    "\n",
    "# Extract only the \"True\" values\n",
    "data_with_true_values = extract_true_values(processed_data)\n",
    "\n",
    "# Count unique values\n",
    "unique_counts = count_unique_values(data_with_true_values)\n",
    "\n",
    "# Display the results\n",
    "print(data_with_true_values)\n",
    "print(\"\\nUnique counts:\", unique_counts)\n"
   ]
  },
  {
   "cell_type": "code",
   "execution_count": 14,
   "metadata": {},
   "outputs": [
    {
     "name": "stdout",
     "output_type": "stream",
     "text": [
      "      group prefix  validness  relatedness  appropriateness\n",
      "0   group_1   3243          1            1                1\n",
      "1   group_1   5230          1            2                1\n",
      "2   group_1   8141          1            2                1\n",
      "3   group_1  10373          1            1                1\n",
      "4   group_1  10555          1            2                1\n",
      "..      ...    ...        ...          ...              ...\n",
      "95  group_5  19758          1            3                1\n",
      "96  group_5  23129          1            3                1\n",
      "97  group_5  24508          1            3                0\n",
      "98  group_5  24618          1            3                1\n",
      "99  group_5  25372          1            3                1\n",
      "\n",
      "[100 rows x 5 columns]\n"
     ]
    }
   ],
   "source": [
    "df = data_with_true_values\n",
    "\n",
    "# Define mappings\n",
    "validness_map = {\"Yes\": 1, \"No\": 0}\n",
    "relatedness_map = {\n",
    "    \"Strongly Related\": 3,\n",
    "    \"Related\": 2,\n",
    "    \"Slightly Related\": 1,\n",
    "    \"Not Related\": 0\n",
    "}\n",
    "appropriateness_map = {\"No\": 1, \"Yes\": 0}\n",
    "\n",
    "# Apply mappings\n",
    "df[\"validness\"] = df[\"validness\"].map(validness_map)\n",
    "df[\"relatedness\"] = df[\"relatedness\"].map(relatedness_map)\n",
    "df[\"appropriateness\"] = df[\"appropriateness\"].map(appropriateness_map)\n",
    "\n",
    "# Output the processed DataFrame\n",
    "print(df)"
   ]
  },
  {
   "cell_type": "code",
   "execution_count": 38,
   "metadata": {},
   "outputs": [
    {
     "name": "stdout",
     "output_type": "stream",
     "text": [
      "      group prefix  validness  relatedness  appropriateness\n",
      "0   group_1   3243          1            1                1\n",
      "17  group_1  20157          1            3                1\n",
      "39  group_2  25047          1            2                1\n",
      "36  group_2  20198          1            1                0\n",
      "50  group_3  14943          1            1                1\n",
      "47  group_3  11686          1            1                1\n",
      "60  group_4     28          1            1                1\n",
      "78  group_4  19975          1            3                1\n",
      "85  group_5   4712          1            3                1\n",
      "82  group_5   2905          1            3                1\n",
      "group              object\n",
      "prefix             object\n",
      "validness           int64\n",
      "relatedness         int64\n",
      "appropriateness     int64\n",
      "dtype: object\n"
     ]
    }
   ],
   "source": [
    "# Randomly sample test samples to do manual evaluation on\n",
    "data_with_true_values_test_samples = data_with_true_values.groupby('group').sample(n=2, random_state=42)\n",
    "\n",
    "data_with_true_values_test_samples.to_excel('test_samples_manual_evaluation.xlsx', index=False)\n",
    "\n",
    "print(data_with_true_values_test_samples)\n",
    "print(data_with_true_values_test_samples.dtypes)"
   ]
  },
  {
   "cell_type": "code",
   "execution_count": 56,
   "metadata": {},
   "outputs": [
    {
     "name": "stdout",
     "output_type": "stream",
     "text": [
      "     group  prefix  validness  relatedness  appropriateness\n",
      "0  group_1    3243          1            1                1\n",
      "1  group_1   20157          1            1                1\n",
      "2  group_2   25047          1            1                1\n",
      "3  group_2   20198          1            3                1\n",
      "4  group_3   14943          1            1                1\n",
      "5  group_3   11686          1            1                1\n",
      "6  group_4      28          1            0                1\n",
      "7  group_4   19975          1            1                1\n",
      "8  group_5    4712          1            2                1\n",
      "9  group_5    2905          1            2                1\n",
      "group              object\n",
      "prefix              int64\n",
      "validness           int64\n",
      "relatedness         int64\n",
      "appropriateness     int64\n",
      "dtype: object\n"
     ]
    }
   ],
   "source": [
    "# David's Manual test sample evaluation\n",
    "mode_1_release_1_test_samples_manual_evaluation = pd.read_excel('mode_1_release_1_test_samples_manual_evaluation.xlsx')\n",
    "\n",
    "df_release_1_manual_eval = mode_1_release_1_test_samples_manual_evaluation\n",
    "# Define mappings\n",
    "validness_map = {\"Yes\": 1, \"No\": 0}\n",
    "relatedness_map = {\n",
    "    \"Strongly Related\": 3,\n",
    "    \"Related\": 2,\n",
    "    \"Slightly Related\": 1,\n",
    "    \"Not Related\": 0\n",
    "}\n",
    "appropriateness_map = {\"No\": 1, \"Yes\": 0}\n",
    "\n",
    "# Apply mappings\n",
    "df_release_1_manual_eval[\"validness\"] = df_release_1_manual_eval[\"validness\"].map(validness_map)\n",
    "df_release_1_manual_eval[\"relatedness\"] = df_release_1_manual_eval[\"relatedness\"].map(relatedness_map)\n",
    "df_release_1_manual_eval[\"appropriateness\"] = df_release_1_manual_eval[\"appropriateness\"].map(appropriateness_map)\n",
    "\n",
    "# Output the processed DataFrame\n",
    "print(df_release_1_manual_eval)\n",
    "print(df_release_1_manual_eval.dtypes)\n"
   ]
  },
  {
   "cell_type": "code",
   "execution_count": null,
   "metadata": {},
   "outputs": [],
   "source": [
    "test_sample_questions = {\n",
    "    \"group_1\": {\n",
    "        {\n",
    "            \"id\": 3243,\n",
    "            \"question\": \"ELI5: Why electric cars don't use removable batteries?\",\n",
    "            \"answer\": \"It's doable from a technical perspective, but it now means that you have to dramatically increase the total number of batteries in circulation as you need more than one for each vehicle on the road. Batteries are already a pretty extreme production and cost concern (roughly half the value of an EV is just the battery), and increasing the number of battery packs would inevitably mean increasing costs for the consumers who buy the EV.\",\n",
    "            \"follow-up\": \"What kind of infrastructure investments would be necessary for a widespread network of battery swapping stations?\"\n",
    "        },\n",
    "        {\n",
    "            \"id\": 20157,\n",
    "            \"question\": \"ELI5: Why does a debit increase an asset account?\",\n",
    "            \"answer\": \"You would not be left with $5k, you would be left with $15k.  You don't debit \\\"from\\\" an asset account, you debit \\\"into\\\" it.  A credit to an asset account is taking \\\"from\\\" it.\",\n",
    "            \"follow-up\": \"What other types of accounts, besides asset accounts, are affected by debits and credits?\"\n",
    "        }\n",
    "    },\n",
    "    \"group_2\": {\n",
    "        {\n",
    "            \"id\": 25047,\n",
    "            \"question\": \"ELI5: what needs to happen before we can unmask safely?\",\n",
    "            \"answer\": \"There are two answers. Neither of them very clear. One personally, and two society-wise. Both depend on risk. The first to your self , the second as a group.   Your risk is based on how likely you are to actually cross paths with someone infectious and how likely that is to cause you serious harm. So are you in an at risk group and where are you are considerations.   The second - how likely you are to be part of a chain of infection, how at risk are the people around you and how well society - such as the health service is coping.   Masks not perfect and life always holds a risk. In the West we have never masked up for flu which kills thousands of people a year - around 20,000 in the U.K. annually I think - though we vaccinate the at risk. Possibly COVId may have some nasty long term consequences even if you dint get seriously ill. But if the consequences of COVID dropped to equivalent to flu , then it would hardly be unreasonable to behave in a similar way. I say that nit to suggest we wait till then ( if it ever happened) but as a comparative starting point. No one can really say at what precise point in infections and consequences between that \\u2018flu\\u2019 point and the worst of COVID is the point at which we are \\u2018safe\\u2019.   I expect government ps will come up with a balance of infection rates, hospitalisations and economics with a dose of politics.   Bear in mind that in the East people regularly wear masks on public transport so as either not to do catch viruses or not to spread them , I guess it\\u2019s just considered normal hygiene even for colds.   That\\u2019s a long winded way of saying that presuming you are not mandated by the governments and pretty much everyone has had access to a vaccine you will have to decide whether you feel either at risk yourself, or feel that you need to still protect other people.   Personally I feel like the vaccine plus some lowering of case rates make me feel safe enough - but I wear one sometimes out of consideration to people around me who are still wearing them or in particularly crowded and enclosed environments or both.\",\n",
    "            \"follow-up\": \"What are the benefits of using transparent face shields as an alternative to masks?\"\n",
    "        },\n",
    "        {\n",
    "            \"id\": 20198,\n",
    "            \"question\": \"eli5: What is confusion?\",\n",
    "            \"answer\": \"In many cases it is because of sensory overload. It's what happens when the brain gives up processing the input correctly.\",\n",
    "            \"follow-up\": \"How do excessive and insufficient information contribute differently to confusion?\"\n",
    "        },\n",
    "    },\n",
    "    \"group_3\": {\n",
    "        {\n",
    "            \"id\": 14943,\n",
    "            \"question\": \"Eli5 How do players go pro into esports?\",\n",
    "            \"answer\": \"Do you mean how do they develop the skills to be professional or what defines them as professional? The answer to the former is discipline and practice. The answer to the later is that they are sponsored and between sponsorships and winnings from tournaments make some or all of their living wage by gaming competitively.\",\n",
    "            \"follow-up\": \"What are some key elements that mentorship might cover for aspiring professional esports players?\"\n",
    "        },\n",
    "        {\n",
    "            \"id\": 11686,\n",
    "            \"question\": \"ELI5: Why is it convention for websites to use boxes for questions with multiple answers, but dots for questions with single answers?\",\n",
    "            \"answer\": \"They are two different types of controls.  The check boxes are independent, and you can check multiple boxes.  The dots are called radio buttons, and when they're grouped together you can only check one.  Checking another will uncheck the previously checked one.  Since that functionality has already been built into the controls, it means less coding for the web designer.\",\n",
    "            \"follow-up\": \"How does the use of checkboxes and radio buttons adhere to accessibility principles?\"\n",
    "        },\n",
    "    },\n",
    "    \"group_4\": {\n",
    "        {\n",
    "            \"id\": 28,\n",
    "            \"question\": \"ELI5: Why aren\\u2019t there insects the size of man or larger?\",\n",
    "            \"answer\": \"They don\\u2019t breath the same way mammals do. They have tubes in various parts of their body that expose their circulatory system to air where it absorbs oxygen. Because they don\\u2019t inhale, they air limited in size by the amount of oxygen in the atmosphere. Which is why they used to be bigger in past eras when there was more oxygen in the atmosphere.\",\n",
    "            \"follow-up\": \"How does gravity affect the biomechanics of larger insects differently than smaller ones?\"\n",
    "        },\n",
    "        {\n",
    "            \"id\": 19975,\n",
    "            \"question\": \"ELI5: Why is deflation worse than inflation?\",\n",
    "            \"answer\": \"Why would I pay $1000 for a TV today when it will be cheaper tomorrow.   Obviously not that simple.  But if people don't spend money, shops go broke, people lose jobs etc\",\n",
    "            \"follow-up\": \"What are the mechanisms by which deflation can cause a credit crunch?\"\n",
    "        },\n",
    "    },\n",
    "    \"group_5\": {\n",
    "        {\n",
    "            \"id\": 4712,\n",
    "            \"question\": \"eli5: Why do commonly used items, such as CRT's or old consoles skyrocket in value after they stop production? Assuming that these items stopped production today, why do sealed boxes or hell even good condition second-hand items almost double in price mere weeks after the end of production?\",\n",
    "            \"answer\": \"CRTs have some advantages over LCDs and other flat-panel display technologies that matter for certain niche applications. To the typical consumer, the advantages of flat panels outweigh these rather specific disadvantages, and also different flat panel technologies have complementary strengths so most people don't need a CRT. So once flat panels became cheap enough to be accessible to most consumers, CRT production took a nosedive. But the niche market for them remained, and so now you have a situation where the supply is almost 0 but there is still some demand for it. Of course, you could argue that supply could still track demand and so prices should be unaffected, but that's not the case because (1) with this big drop in production, economies of scale have been lost and so it's more expensive to manufacture a CRT monitor these days and (2) the demand is no longer from average consumers who want to pay low prices for medium-quality products, but rather it comes from specialists or enthusiasts who need CRTs with specific, high-quality specifications and are willing to pay more for that.  Of course, the second point does not explain why even older, second-hand CRTs have gone up in price. That's more due to point (1) combined with a somewhat separate (though overlapping) demand from enthusiasts and collectors who don't care so much about performance.  Anyway, in short: CRTs are an example of a product that has gotten more expensive because the mass market for it disappeared, and now it's turned into a niche market, where costs are higher and customers are willing to pay more.  Things like old consoles, where production has fully and permanently stopped, are a different situation, because there you're dealing with a somewhat steady (if small) demand combined with a steadily dwindling supply (that will eventually drop to 0). So e.g. if you really want to buy a NES today, your options are very limited as you're dependent on the ever-decreasing number of NES's in the world that still work, *and* that people are willing to sell. So even though very few people are looking to buy NES's, the supply is even smaller.  I'm not sure it's accurate to say that these consoles shoot up in price weeks after their production ends (that would surprise me but I'm happy to be corrected on that). By that point, presumably nearly everyone who wanted to buy one already did so, and people who couldn't previously afford one now are looking to buy one cheaper in the second-hand market that is ramping up. Also, often consoles that go out of production are superseded by newer models and the bulk of the demand will switch to them, while the collectors' market will take years to get off the ground. The only exception I can think of would be if the manufacturer (for some atypical reason) stopped producing the console before they had exhausted the (profitable) demand for it (and didn't release a new console yet).\",\n",
    "            \"follow-up\": \"How does the release of newer console models impact the demand for older, discontinued ones?\"\n",
    "        },\n",
    "        {\n",
    "            \"id\": 2905,\n",
    "            \"question\": \"ELI5: why are there a huge amount of different insect varieties, like in ants, but only a small amount of different varieties in animals such as crocodiles?\",\n",
    "            \"answer\": \"Tiny changes in those small animals allow them to fulfill different niches and avoid competition.  A tiny change in a crocodiles morphology wouldn't do as much the separate it from the other croc species.    Ex.  A slight change in the size of a birds beak (I know I changed examples but still) will change its primary food source.  A small change in a crocs mouth.. will still make it be a top predator.\",\n",
    "            \"follow-up\": \"How does the reproductive rate of insects contribute to their high species diversity?\"\n",
    "        },\n",
    "    }\n",
    "}"
   ]
  },
  {
   "cell_type": "code",
   "execution_count": 57,
   "metadata": {},
   "outputs": [
    {
     "name": "stdout",
     "output_type": "stream",
     "text": [
      "MTurk Worker Test Sample Results: \n",
      "    level_0  index    group prefix  validness  relatedness  appropriateness\n",
      "0        0      0  group_1   3243          1            1                1\n",
      "1        1     17  group_1  20157          1            3                1\n",
      "2        2     39  group_2  25047          1            2                1\n",
      "3        3     36  group_2  20198          1            1                0\n",
      "4        4     50  group_3  14943          1            1                1\n",
      "5        5     47  group_3  11686          1            1                1\n",
      "6        6     60  group_4     28          1            1                1\n",
      "7        7     78  group_4  19975          1            3                1\n",
      "8        8     85  group_5   4712          1            3                1\n",
      "9        9     82  group_5   2905          1            3                1\n",
      "David Test Sample Results: \n",
      "      group  prefix  validness  relatedness  appropriateness\n",
      "0  group_1    3243          1            1                1\n",
      "1  group_1   20157          1            1                1\n",
      "2  group_2   25047          1            1                1\n",
      "3  group_2   20198          1            3                1\n",
      "4  group_3   14943          1            1                1\n",
      "5  group_3   11686          1            1                1\n",
      "6  group_4      28          1            0                1\n",
      "7  group_4   19975          1            1                1\n",
      "8  group_5    4712          1            2                1\n",
      "9  group_5    2905          1            2                1\n",
      "Difference in Test Sample results between MTurk Workers and David: \n",
      "    level_0  index    group prefix  validness  relatedness  appropriateness\n",
      "0      NaN    NaN  group_1   3243          0            0                0\n",
      "1      NaN    NaN  group_1  20157          0            2                0\n",
      "2      NaN    NaN  group_2  25047          0            1                0\n",
      "3      NaN    NaN  group_2  20198          0           -2               -1\n",
      "4      NaN    NaN  group_3  14943          0            0                0\n",
      "5      NaN    NaN  group_3  11686          0            0                0\n",
      "6      NaN    NaN  group_4     28          0            1                0\n",
      "7      NaN    NaN  group_4  19975          0            2                0\n",
      "8      NaN    NaN  group_5   4712          0            1                0\n",
      "9      NaN    NaN  group_5   2905          0            1                0\n"
     ]
    },
    {
     "name": "stderr",
     "output_type": "stream",
     "text": [
      "/var/folders/8b/lb1cxfqj6zx5dtq789h2k8xr0000gn/T/ipykernel_4790/2790975268.py:11: FutureWarning: Setting an item of incompatible dtype is deprecated and will raise in a future error of pandas. Value '[nan nan nan nan nan nan nan nan nan nan]' has dtype incompatible with int64, please explicitly cast to a compatible dtype first.\n",
      "  df_test_sample_result_difference.loc[:, ~df_test_sample_result_difference.columns.isin(excluded_columns)] = (df1.loc[:, ~df1.columns.isin(excluded_columns)] - df2.loc[:, ~df2.columns.isin(excluded_columns)])\n",
      "/var/folders/8b/lb1cxfqj6zx5dtq789h2k8xr0000gn/T/ipykernel_4790/2790975268.py:11: FutureWarning: Setting an item of incompatible dtype is deprecated and will raise in a future error of pandas. Value '[nan nan nan nan nan nan nan nan nan nan]' has dtype incompatible with int64, please explicitly cast to a compatible dtype first.\n",
      "  df_test_sample_result_difference.loc[:, ~df_test_sample_result_difference.columns.isin(excluded_columns)] = (df1.loc[:, ~df1.columns.isin(excluded_columns)] - df2.loc[:, ~df2.columns.isin(excluded_columns)])\n"
     ]
    }
   ],
   "source": [
    "excluded_columns = [\"group\", \"prefix\"]\n",
    "df1 = data_with_true_values_test_samples\n",
    "df2 = df_release_1_manual_eval\n",
    "# df1.reset_index(inplace=True)\n",
    "# df2.reset_index(inplace=True)\n",
    "\n",
    "print(f\"MTurk Worker Test Sample Results: \\n {df1}\")\n",
    "print(f\"David Test Sample Results: \\n {df2}\")\n",
    "\n",
    "df_test_sample_result_difference = data_with_true_values_test_samples.copy()\n",
    "df_test_sample_result_difference.loc[:, ~df_test_sample_result_difference.columns.isin(excluded_columns)] = (df1.loc[:, ~df1.columns.isin(excluded_columns)] - df2.loc[:, ~df2.columns.isin(excluded_columns)])\n",
    "\n",
    "print(f\"Difference in Test Sample results between MTurk Workers and David: \\n {df_test_sample_result_difference}\")"
   ]
  },
  {
   "cell_type": "code",
   "execution_count": 63,
   "metadata": {},
   "outputs": [
    {
     "name": "stdout",
     "output_type": "stream",
     "text": [
      "          validness  relatedness  appropriateness\n",
      "mean            1.0     1.940000         0.840000\n",
      "variance        0.0     0.925657         0.135758\n"
     ]
    }
   ],
   "source": [
    "# Mode 1 Release 1 Mean and Variance\n",
    "mean_values = df[[\"validness\", \"relatedness\", \"appropriateness\"]].mean()\n",
    "var_values = df[[\"validness\", \"relatedness\", \"appropriateness\"]].var()\n",
    "\n",
    "result = pd.DataFrame(\n",
    "    [mean_values, var_values],\n",
    "    index=[\"mean\", \"variance\"]\n",
    ")\n",
    "\n",
    "print(result)"
   ]
  },
  {
   "cell_type": "code",
   "execution_count": null,
   "metadata": {},
   "outputs": [
    {
     "data": {
      "image/png": "[encoded data removed]",
      "text/plain": [
       "<Figure size 1200x800 with 3 Axes>"
      ]
     },
     "metadata": {},
     "output_type": "display_data"
    }
   ],
   "source": [
    "# Histogram of each questions\n",
    "# Create separate histograms for each column\n",
    "plt.figure(figsize=(12, 8))\n",
    "colors = ['#B3E0FF', '#FFCCE5', '#B3E2CD']\n",
    "\n",
    "plt.subplot(1, 3, 1)\n",
    "plt.hist(df['validness'], bins=5, edgecolor='black', color=colors[0])\n",
    "plt.title('Responses for Validness Question')\n",
    "plt.xlabel('Validness')\n",
    "plt.ylabel('Frequency')\n",
    "plt.xticks(np.arange(int(df['validness'].min()), int(df['validness'].max()) + 1, 1))\n",
    "\n",
    "plt.subplot(1, 3, 2)\n",
    "plt.hist(df['relatedness'], bins=5, edgecolor='black', color=colors[1])\n",
    "plt.title('Responses for Relatedness Question')\n",
    "plt.xlabel('Relatedness')\n",
    "plt.ylabel('Frequency')\n",
    "plt.xticks(np.arange(int(df['relatedness'].min()), int(df['relatedness'].max()) + 1, 1))\n",
    "\n",
    "plt.subplot(1, 3, 3)\n",
    "plt.hist(df['appropriateness'], bins=5, edgecolor='black', color=colors[2])\n",
    "plt.title('Responses for Appropriateness Question')\n",
    "plt.xlabel('Appropriateness')\n",
    "plt.ylabel('Frequency')\n",
    "plt.xticks(np.arange(int(df['appropriateness'].min()), int(df['appropriateness'].max()) + 1, 1))\n",
    "\n",
    "plt.tight_layout()\n",
    "plt.show()"
   ]
  },
  {
   "cell_type": "code",
   "execution_count": null,
   "metadata": {},
   "outputs": [],
   "source": [
    "# Mode 1 Release 2 Mean and Variance\n",
    "# TODO"
   ]
  },
  {
   "cell_type": "code",
   "execution_count": null,
   "metadata": {},
   "outputs": [],
   "source": [
    "# Mode 1 Cohen's Kappa\n",
    "# TODO"
   ]
  }
 ],
 "metadata": {
  "kernelspec": {
   "display_name": "Python 3",
   "language": "python",
   "name": "python3"
  },
  "language_info": {
   "codemirror_mode": {
    "name": "ipython",
    "version": 3
   },
   "file_extension": ".py",
   "mimetype": "text/x-python",
   "name": "python",
   "nbconvert_exporter": "python",
   "pygments_lexer": "ipython3",
   "version": "3.12.5"
  }
 },
 "nbformat": 4,
 "nbformat_minor": 2
}
