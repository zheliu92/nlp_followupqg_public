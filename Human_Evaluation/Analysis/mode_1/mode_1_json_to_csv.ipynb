{
 "cells": [
  {
   "cell_type": "code",
   "execution_count": 6,
   "metadata": {},
   "outputs": [
    {
     "name": "stdout",
     "output_type": "stream",
     "text": [
      "CSV file '../Data/Mode1/input/mode_1_data_part_1.csv' created successfully.\n",
      "CSV file '../Data/Mode1/input/mode_1_data_part_2.csv' created successfully.\n",
      "CSV file '../Data/Mode1/input/mode_1_data_part_3.csv' created successfully.\n",
      "CSV file '../Data/Mode1/input/mode_1_data_part_4.csv' created successfully.\n",
      "CSV file '../Data/Mode1/input/mode_1_data_part_5.csv' created successfully.\n"
     ]
    }
   ],
   "source": [
    "import json\n",
    "import csv\n",
    "import pandas as pd\n",
    "\n",
    "input_json_file_path = \"../../Dataset/train_manual.json\"\n",
    "output_csv_file_prefix = '../Data/Mode1/input/mode_1_data_part_'\n",
    "\n",
    "data = (pd.read_json(input_json_file_path))\n",
    "\n",
    "entries_per_file = 20\n",
    "\n",
    "# Loop to create 5 separate CSV files\n",
    "for i in range(5):\n",
    "    # Calculate the start and end index for each chunk of 20 entries\n",
    "    start_index = i * entries_per_file\n",
    "    end_index = start_index + entries_per_file\n",
    "    \n",
    "    # Extract the subset of data for this file\n",
    "    data_chunk = data.iloc[start_index:end_index]\n",
    "    \n",
    "    # Prepare the data in list format for a single-row CSV\n",
    "    row_data = {\n",
    "        'id': data_chunk['id'].tolist(),\n",
    "        'question': data_chunk['question'].tolist(),\n",
    "        'answer': data_chunk['answer'].tolist(),\n",
    "        'follow-ups': data_chunk['follow-up'].tolist()\n",
    "    }\n",
    "    \n",
    "    # Define the output CSV file name for this chunk\n",
    "    output_csv_file_path = f'{output_csv_file_prefix}{i + 1}.csv'\n",
    "    \n",
    "    # Write `entries_per_file` identical rows to the CSV file\n",
    "    with open(output_csv_file_path, mode='w', newline='', encoding='utf-8') as csv_file:\n",
    "        # Create a CSV writer\n",
    "        writer = csv.DictWriter(csv_file, fieldnames=row_data.keys())\n",
    "        \n",
    "        # Write the header row\n",
    "        writer.writeheader()\n",
    "        \n",
    "        # Write `entries_per_file` identical rows with the same data as `row_data`\n",
    "        writer.writerow(row_data)\n",
    "\n",
    "    print(f\"CSV file '{output_csv_file_path}' created successfully.\")"
   ]
  }
 ],
 "metadata": {
  "kernelspec": {
   "display_name": "Python 3",
   "language": "python",
   "name": "python3"
  },
  "language_info": {
   "codemirror_mode": {
    "name": "ipython",
    "version": 3
   },
   "file_extension": ".py",
   "mimetype": "text/x-python",
   "name": "python",
   "nbconvert_exporter": "python",
   "pygments_lexer": "ipython3",
   "version": "3.12.5"
  }
 },
 "nbformat": 4,
 "nbformat_minor": 2
}
